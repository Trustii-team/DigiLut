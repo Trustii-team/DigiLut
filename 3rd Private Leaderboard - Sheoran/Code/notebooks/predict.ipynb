{
 "cells": [
  {
   "cell_type": "code",
   "execution_count": 4,
   "id": "6486ca8b",
   "metadata": {},
   "outputs": [
    {
     "name": "stdout",
     "output_type": "stream",
     "text": [
      "Number of GPUs available: 2\n",
      "GPU 0: NVIDIA A100-SXM4-80GB\n",
      "GPU 1: NVIDIA A100-SXM4-80GB\n"
     ]
    },
    {
     "data": {
      "text/plain": [
       "device(type='cuda', index=0)"
      ]
     },
     "execution_count": 4,
     "metadata": {},
     "output_type": "execute_result"
    }
   ],
   "source": [
    "import numpy as np \n",
    "import pandas as pd\n",
    "import os\n",
    "import warnings\n",
    "import random\n",
    "import matplotlib.pyplot as plt\n",
    "import cv2\n",
    "import pytorch_lightning\n",
    "import torch\n",
    "import torch.nn as nn\n",
    "import torch.optim as optim\n",
    "import torchvision\n",
    "import shapely\n",
    "import torchvision.transforms as transforms\n",
    "from torch.utils.data import DataLoader\n",
    "from tqdm import tqdm\n",
    "\n",
    "import sys\n",
    "sys.path.append('../../../')\n",
    "from utils.LungSet import LungSet\n",
    "from utils.utils import train_model, evaluate_model, generate_preds, build_model, get_available_devices, generate_preds_probas\n",
    "from utils.utils import get_pred, retrieve_rois\n",
    "\n",
    "warnings.filterwarnings(\"ignore\")\n",
    "device = torch.device(\"cuda\" if torch.cuda.is_available() else \"cpu\")\n",
    "\n",
    "seed=2024\n",
    "random.seed(seed)\n",
    "np.random.seed(seed)\n",
    "torch.manual_seed(seed)\n",
    "torch.cuda.manual_seed(seed)\n",
    "torch.cuda.manual_seed_all(seed)\n",
    "torch.backends.cudnn.deterministic = True\n",
    "torch.backends.cudnn.benchmark = False\n",
    "\n",
    "\n",
    "# Detect available devices\n",
    "devices = get_available_devices()\n",
    "device = devices[0]\n",
    "device"
   ]
  },
  {
   "cell_type": "code",
   "execution_count": 5,
   "id": "4f736261",
   "metadata": {},
   "outputs": [],
   "source": [
    "BATCH_SIZE = 1024"
   ]
  },
  {
   "cell_type": "code",
   "execution_count": 6,
   "id": "058408f2",
   "metadata": {},
   "outputs": [
    {
     "data": {
      "text/html": [
       "<div>\n",
       "<style scoped>\n",
       "    .dataframe tbody tr th:only-of-type {\n",
       "        vertical-align: middle;\n",
       "    }\n",
       "\n",
       "    .dataframe tbody tr th {\n",
       "        vertical-align: top;\n",
       "    }\n",
       "\n",
       "    .dataframe thead th {\n",
       "        text-align: right;\n",
       "    }\n",
       "</style>\n",
       "<table border=\"1\" class=\"dataframe\">\n",
       "  <thead>\n",
       "    <tr style=\"text-align: right;\">\n",
       "      <th></th>\n",
       "      <th>patient</th>\n",
       "      <th>filename</th>\n",
       "      <th>image</th>\n",
       "      <th>path</th>\n",
       "    </tr>\n",
       "  </thead>\n",
       "  <tbody>\n",
       "    <tr>\n",
       "      <th>662428</th>\n",
       "      <td>0Rv3MjnLWH</td>\n",
       "      <td>0Rv3MjnLWH_a.tif</td>\n",
       "      <td>0Rv3MjnLWH_a_26560_87040.jpg</td>\n",
       "      <td>../../data/processed/val/patches_as_jpg_full/0...</td>\n",
       "    </tr>\n",
       "    <tr>\n",
       "      <th>662093</th>\n",
       "      <td>0Rv3MjnLWH</td>\n",
       "      <td>0Rv3MjnLWH_a.tif</td>\n",
       "      <td>0Rv3MjnLWH_a_64448_184768.jpg</td>\n",
       "      <td>../../data/processed/val/patches_as_jpg_full/0...</td>\n",
       "    </tr>\n",
       "    <tr>\n",
       "      <th>662092</th>\n",
       "      <td>0Rv3MjnLWH</td>\n",
       "      <td>0Rv3MjnLWH_a.tif</td>\n",
       "      <td>0Rv3MjnLWH_a_71136_33728.jpg</td>\n",
       "      <td>../../data/processed/val/patches_as_jpg_full/0...</td>\n",
       "    </tr>\n",
       "    <tr>\n",
       "      <th>662091</th>\n",
       "      <td>0Rv3MjnLWH</td>\n",
       "      <td>0Rv3MjnLWH_a.tif</td>\n",
       "      <td>0Rv3MjnLWH_a_54752_21696.jpg</td>\n",
       "      <td>../../data/processed/val/patches_as_jpg_full/0...</td>\n",
       "    </tr>\n",
       "    <tr>\n",
       "      <th>662090</th>\n",
       "      <td>0Rv3MjnLWH</td>\n",
       "      <td>0Rv3MjnLWH_a.tif</td>\n",
       "      <td>0Rv3MjnLWH_a_24256_30304.jpg</td>\n",
       "      <td>../../data/processed/val/patches_as_jpg_full/0...</td>\n",
       "    </tr>\n",
       "    <tr>\n",
       "      <th>...</th>\n",
       "      <td>...</td>\n",
       "      <td>...</td>\n",
       "      <td>...</td>\n",
       "      <td>...</td>\n",
       "    </tr>\n",
       "    <tr>\n",
       "      <th>195602</th>\n",
       "      <td>zmvPBONP7H</td>\n",
       "      <td>zmvPBONP7H_a.tif</td>\n",
       "      <td>zmvPBONP7H_a_71968_29408.jpg</td>\n",
       "      <td>../../data/processed/val/patches_as_jpg_full/z...</td>\n",
       "    </tr>\n",
       "    <tr>\n",
       "      <th>195603</th>\n",
       "      <td>zmvPBONP7H</td>\n",
       "      <td>zmvPBONP7H_a.tif</td>\n",
       "      <td>zmvPBONP7H_a_22432_132768.jpg</td>\n",
       "      <td>../../data/processed/val/patches_as_jpg_full/z...</td>\n",
       "    </tr>\n",
       "    <tr>\n",
       "      <th>195604</th>\n",
       "      <td>zmvPBONP7H</td>\n",
       "      <td>zmvPBONP7H_a.tif</td>\n",
       "      <td>zmvPBONP7H_a_20896_131744.jpg</td>\n",
       "      <td>../../data/processed/val/patches_as_jpg_full/z...</td>\n",
       "    </tr>\n",
       "    <tr>\n",
       "      <th>195606</th>\n",
       "      <td>zmvPBONP7H</td>\n",
       "      <td>zmvPBONP7H_a.tif</td>\n",
       "      <td>zmvPBONP7H_a_58496_70592.jpg</td>\n",
       "      <td>../../data/processed/val/patches_as_jpg_full/z...</td>\n",
       "    </tr>\n",
       "    <tr>\n",
       "      <th>194562</th>\n",
       "      <td>zmvPBONP7H</td>\n",
       "      <td>zmvPBONP7H_a.tif</td>\n",
       "      <td>zmvPBONP7H_a_62880_16832.jpg</td>\n",
       "      <td>../../data/processed/val/patches_as_jpg_full/z...</td>\n",
       "    </tr>\n",
       "  </tbody>\n",
       "</table>\n",
       "<p>927725 rows × 4 columns</p>\n",
       "</div>"
      ],
      "text/plain": [
       "           patient          filename                          image  \\\n",
       "662428  0Rv3MjnLWH  0Rv3MjnLWH_a.tif   0Rv3MjnLWH_a_26560_87040.jpg   \n",
       "662093  0Rv3MjnLWH  0Rv3MjnLWH_a.tif  0Rv3MjnLWH_a_64448_184768.jpg   \n",
       "662092  0Rv3MjnLWH  0Rv3MjnLWH_a.tif   0Rv3MjnLWH_a_71136_33728.jpg   \n",
       "662091  0Rv3MjnLWH  0Rv3MjnLWH_a.tif   0Rv3MjnLWH_a_54752_21696.jpg   \n",
       "662090  0Rv3MjnLWH  0Rv3MjnLWH_a.tif   0Rv3MjnLWH_a_24256_30304.jpg   \n",
       "...            ...               ...                            ...   \n",
       "195602  zmvPBONP7H  zmvPBONP7H_a.tif   zmvPBONP7H_a_71968_29408.jpg   \n",
       "195603  zmvPBONP7H  zmvPBONP7H_a.tif  zmvPBONP7H_a_22432_132768.jpg   \n",
       "195604  zmvPBONP7H  zmvPBONP7H_a.tif  zmvPBONP7H_a_20896_131744.jpg   \n",
       "195606  zmvPBONP7H  zmvPBONP7H_a.tif   zmvPBONP7H_a_58496_70592.jpg   \n",
       "194562  zmvPBONP7H  zmvPBONP7H_a.tif   zmvPBONP7H_a_62880_16832.jpg   \n",
       "\n",
       "                                                     path  \n",
       "662428  ../../data/processed/val/patches_as_jpg_full/0...  \n",
       "662093  ../../data/processed/val/patches_as_jpg_full/0...  \n",
       "662092  ../../data/processed/val/patches_as_jpg_full/0...  \n",
       "662091  ../../data/processed/val/patches_as_jpg_full/0...  \n",
       "662090  ../../data/processed/val/patches_as_jpg_full/0...  \n",
       "...                                                   ...  \n",
       "195602  ../../data/processed/val/patches_as_jpg_full/z...  \n",
       "195603  ../../data/processed/val/patches_as_jpg_full/z...  \n",
       "195604  ../../data/processed/val/patches_as_jpg_full/z...  \n",
       "195606  ../../data/processed/val/patches_as_jpg_full/z...  \n",
       "194562  ../../data/processed/val/patches_as_jpg_full/z...  \n",
       "\n",
       "[927725 rows x 4 columns]"
      ]
     },
     "execution_count": 6,
     "metadata": {},
     "output_type": "execute_result"
    }
   ],
   "source": [
    "valid_df = pd.read_csv('../../../data/processed/dataframe_validation_selected.csv').sort_values(by=['patient'])\n",
    "valid_df['path'] = '../'+valid_df['path']\n",
    "valid_df"
   ]
  },
  {
   "cell_type": "code",
   "execution_count": 8,
   "id": "4511d437",
   "metadata": {},
   "outputs": [],
   "source": [
    "transformations = transforms.Compose([\n",
    "    transforms.ToTensor()\n",
    "])\n",
    "\n",
    "X_valid, y_valid = valid_df, pd.DataFrame(np.zeros(len(valid_df)))\n",
    "validset = LungSet(X_valid, y_valid, transforms=transformations)\n",
    "validloader=DataLoader(validset, batch_size=BATCH_SIZE, shuffle=False)"
   ]
  },
  {
   "cell_type": "code",
   "execution_count": 6,
   "id": "d4b8cd55",
   "metadata": {},
   "outputs": [
    {
     "name": "stdout",
     "output_type": "stream",
     "text": [
      "Number of GPUs available: 1\n",
      "GPU 0: NVIDIA A100-SXM4-80GB\n",
      "Fold 0\n"
     ]
    },
    {
     "name": "stderr",
     "output_type": "stream",
     "text": [
      "                                                   \r"
     ]
    },
    {
     "name": "stdout",
     "output_type": "stream",
     "text": [
      "Fold 0 Done!\n",
      "Fold 1\n"
     ]
    },
    {
     "name": "stderr",
     "output_type": "stream",
     "text": [
      "                                                   \r"
     ]
    },
    {
     "name": "stdout",
     "output_type": "stream",
     "text": [
      "Fold 1 Done!\n",
      "Fold 2\n"
     ]
    },
    {
     "name": "stderr",
     "output_type": "stream",
     "text": [
      "                                                   \r"
     ]
    },
    {
     "name": "stdout",
     "output_type": "stream",
     "text": [
      "Fold 2 Done!\n",
      "Fold 3\n"
     ]
    },
    {
     "name": "stderr",
     "output_type": "stream",
     "text": [
      "                                                   \r"
     ]
    },
    {
     "name": "stdout",
     "output_type": "stream",
     "text": [
      "Fold 3 Done!\n",
      "Fold 4\n"
     ]
    },
    {
     "name": "stderr",
     "output_type": "stream",
     "text": [
      "                                                   \r"
     ]
    },
    {
     "name": "stdout",
     "output_type": "stream",
     "text": [
      "Fold 4 Done!\n"
     ]
    }
   ],
   "source": [
    "# Detect available devices\n",
    "devices = get_available_devices()\n",
    "device = devices[0]\n",
    "all_preds, all_probas = [], []\n",
    "for fold in range(5):\n",
    "    print(f'Fold {fold}')\n",
    "    OZENCIGA_MODEL_PATH = '../../models/ozenciga_model/tenpercent_resnet18.ckpt'\n",
    "    model = build_model(OZENCIGA_MODEL_PATH, device)\n",
    "    model = nn.DataParallel(model, device_ids=[i for i in range(len(devices))])\n",
    "    MODEL_PATH = f'../../../models/digilut_model_fine_tuned_with_ozenciga_normalized_fold{fold}.pt'\n",
    "    model = nn.DataParallel(model, device_ids=[i for i in range(len(devices))])\n",
    "    model_dict = torch.load(MODEL_PATH, map_location=device)\n",
    "    model.load_state_dict(model_dict)\n",
    "    model = model.to(device)\n",
    "    model.eval()\n",
    "    y_valid_preds, y_valid_probas = generate_preds_probas(model, validloader, device)\n",
    "    all_preds.append(y_valid_preds)\n",
    "    all_probas.append(y_valid_probas)"
   ]
  },
  {
   "cell_type": "code",
   "execution_count": null,
   "id": "010236bf",
   "metadata": {},
   "outputs": [],
   "source": [
    "from utils.utils import majority_voting, arith_mean, geo_mean, harm_mean"
   ]
  },
  {
   "cell_type": "code",
   "execution_count": null,
   "id": "896786b2",
   "metadata": {},
   "outputs": [],
   "source": [
    "y_proba_0,y_proba_1,y_proba_2,y_proba_3,y_proba_4 = all_probas\n",
    "\n",
    "yhat0,yhat1,yhat2,yhat3,yhat4 = all_preds\n",
    "\n",
    "probs = torch.stack([y_proba_0, y_proba_1, y_proba_2, y_proba_3, y_proba_4], dim=0)\n",
    "preds = np.stack([yhat0, yhat1, yhat2, yhat3, yhat4], axis=0)\n",
    "\n",
    "majority_preds = majority_voting(preds)\n",
    "final_arith_preds = arith_mean(probs)\n",
    "final_geo_preds = geo_mean(probs)\n",
    "final_harm_preds = harm_mean(probs)\n",
    "\n",
    "valid_df['preds'] = final_arith_preds.numpy()\n",
    "display(valid_df)\n",
    "\n",
    "    \n",
    "df_val  = pd.read_csv(\"../../../data/raw/validation.csv\")\n",
    "pred_csv = valid_df\n",
    "\n",
    "filenames = df_val.filename.unique()\n",
    "submission_df = pd.DataFrame()\n",
    "display(submission_df)\n",
    "\n",
    "for slide in tqdm(filenames):\n",
    "    df_val_slide = df_val[df_val.filename==slide]\n",
    "    trustii_ids = df_val_slide.trustii_id.values\n",
    "    nb_roi = len(df_val_slide)\n",
    "    coords, preds = get_pred(pred_csv, slide)\n",
    "    rois = retrieve_rois(coords[preds==1], 512, nb_roi)\n",
    "    if len(rois) < nb_roi:\n",
    "        rois = list(rois)\n",
    "        rois.extend([shapely.box(0,0,0,0)]*(nb_roi-len(rois)))\n",
    "        rois = np.array(rois)\n",
    "    rois_area = [roi.area for roi in rois]\n",
    "    selected_rois = rois[np.argpartition(rois_area, -nb_roi)[-nb_roi:]]\n",
    "    for i, selected_roi in enumerate(selected_rois):\n",
    "        bbox = selected_roi.bounds\n",
    "        df_dict = pd.DataFrame([{\"trustii_id\": trustii_ids[i], \"filename\": slide, \"x1\":int(bbox[0]), \"x2\": int(bbox[1]), \"y1\":int(bbox[2]), \"y2\":int(bbox[3])}])\n",
    "        submission_df = pd.concat([submission_df, df_dict])\n",
    "        \n",
    "submission_df = submission_df.sort_values(by=\"trustii_id\")\n",
    "display(submission_df)\n",
    "submission_df.to_csv(f'../../../data/predictions/submission_no_normalization_CV_arithmean.csv', index=False, encoding='UTF-8')"
   ]
  }
 ],
 "metadata": {
  "kernelspec": {
   "display_name": "Python 3 (ipykernel)",
   "language": "python",
   "name": "python3"
  },
  "language_info": {
   "codemirror_mode": {
    "name": "ipython",
    "version": 3
   },
   "file_extension": ".py",
   "mimetype": "text/x-python",
   "name": "python",
   "nbconvert_exporter": "python",
   "pygments_lexer": "ipython3",
   "version": "3.10.12"
  }
 },
 "nbformat": 4,
 "nbformat_minor": 5
}
